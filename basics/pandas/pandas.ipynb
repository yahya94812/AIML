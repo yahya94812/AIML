{
 "cells": [
  {
   "cell_type": "code",
   "execution_count": 1,
   "metadata": {},
   "outputs": [],
   "source": [
    "import pandas as pd"
   ]
  },
  {
   "cell_type": "code",
   "execution_count": 3,
   "metadata": {},
   "outputs": [
    {
     "name": "stdout",
     "output_type": "stream",
     "text": [
      "      Name  Age         City\n",
      "0    Alice   25     New York\n",
      "1      Bob   30  Los Angeles\n",
      "2  Charlie   35      Chicago\n",
      "\n",
      "      Name  Age         City\n",
      "0    Alice   25     New York\n",
      "1      Bob   30  Los Angeles\n",
      "2  Charlie   35      Chicago\n"
     ]
    }
   ],
   "source": [
    "#Creating a data frame\n",
    "import pandas as pd\n",
    "\n",
    "# From a dictionary\n",
    "data = {\n",
    "    'Name': ['Alice', 'Bob', 'Charlie'],\n",
    "    'Age': [25, 30, 35],\n",
    "    'City': ['New York', 'Los Angeles', 'Chicago']\n",
    "}\n",
    "df = pd.DataFrame(data)\n",
    "print(df)\n",
    "print()\n",
    "\n",
    "# From a list of lists\n",
    "data = [\n",
    "    ['Alice', 25, 'New York'],\n",
    "    ['Bob', 30, 'Los Angeles'],\n",
    "    ['Charlie', 35, 'Chicago']\n",
    "]\n",
    "df = pd.DataFrame(data, columns=['Name', 'Age', 'City'])\n",
    "print(df)"
   ]
  },
  {
   "cell_type": "code",
   "execution_count": 1,
   "metadata": {},
   "outputs": [
    {
     "name": "stdout",
     "output_type": "stream",
     "text": [
      "        name  roll  usn  marks\n",
      "0      yahya    14   76     99\n",
      "1  badruddin     5   67    100\n",
      "\n",
      "    name  class  roll\n",
      "0  yahya     13    14\n"
     ]
    }
   ],
   "source": [
    "#Reading and writing in CSV or XLSX file\n",
    "import pandas as pd\n",
    "\n",
    "# Reading from a CSV file\n",
    "df = pd.read_csv('data.csv')\n",
    "print(df)\n",
    "print()\n",
    "\n",
    "# Writing to a CSV file\n",
    "df.to_csv('output.csv', index=False)#index in dataframe is the number assign to each row starting from 0\n",
    "\n",
    "# Reading from an Excel file\n",
    "df = pd.read_excel('data.xlsx')\n",
    "print(df)\n",
    "\n",
    "# Writing to an Excel file\n",
    "df.to_excel('output.xlsx', index=False)"
   ]
  },
  {
   "cell_type": "code",
   "execution_count": 4,
   "metadata": {},
   "outputs": [
    {
     "name": "stdout",
     "output_type": "stream",
     "text": [
      "      Name  Age         City\n",
      "0    Alice   25     New York\n",
      "1      Bob   30  Los Angeles\n",
      "2  Charlie   35      Chicago\n",
      "3    David   40      Houston\n",
      "4      Eve   45      Phoenix\n",
      "      Name  Age         City\n",
      "0    Alice   25     New York\n",
      "1      Bob   30  Los Angeles\n",
      "2  Charlie   35      Chicago\n",
      "3    David   40      Houston\n",
      "4      Eve   45      Phoenix\n",
      "      Name  Age         City\n",
      "0    Alice   25     New York\n",
      "1      Bob   30  Los Angeles\n",
      "2  Charlie   35      Chicago\n",
      "      Name  Age     City\n",
      "2  Charlie   35  Chicago\n",
      "3    David   40  Houston\n",
      "4      Eve   45  Phoenix\n"
     ]
    }
   ],
   "source": [
    "#Viewing data\n",
    "import pandas as pd\n",
    "\n",
    "df = pd.DataFrame({\n",
    "    'Name': ['Alice', 'Bob', 'Charlie', 'David', 'Eve'],\n",
    "    'Age': [25, 30, 35, 40, 45],\n",
    "    'City': ['New York', 'Los Angeles', 'Chicago', 'Houston', 'Phoenix']\n",
    "})\n",
    "\n",
    "# View the first 5 rows\n",
    "print(df.head())\n",
    "\n",
    "# View the last 5 rows\n",
    "print(df.tail())\n",
    "\n",
    "# View a specific number of rows\n",
    "print(df.head(3))\n",
    "print(df.tail(3))"
   ]
  },
  {
   "cell_type": "code",
   "execution_count": 5,
   "metadata": {},
   "outputs": [
    {
     "name": "stdout",
     "output_type": "stream",
     "text": [
      "0      Alice\n",
      "1        Bob\n",
      "2    Charlie\n",
      "Name: Name, dtype: object\n",
      "      Name         City\n",
      "0    Alice     New York\n",
      "1      Bob  Los Angeles\n",
      "2  Charlie      Chicago\n"
     ]
    }
   ],
   "source": [
    "#Selecting column\n",
    "import pandas as pd\n",
    "\n",
    "df = pd.DataFrame({\n",
    "    'Name': ['Alice', 'Bob', 'Charlie'],\n",
    "    'Age': [25, 30, 35],\n",
    "    'City': ['New York', 'Los Angeles', 'Chicago']\n",
    "})\n",
    "\n",
    "# Select a single column\n",
    "print(df['Name'])\n",
    "\n",
    "# Select multiple columns\n",
    "print(df[['Name', 'City']])"
   ]
  },
  {
   "cell_type": "code",
   "execution_count": 2,
   "metadata": {},
   "outputs": [
    {
     "name": "stdout",
     "output_type": "stream",
     "text": [
      "<class 'pandas.core.series.Series'>\n",
      "      Name  Age     City\n",
      "2  Charlie   35  Chicago\n",
      "  Name  Age         City\n",
      "1  Bob   30  Los Angeles\n"
     ]
    }
   ],
   "source": [
    "#Filtering rows\n",
    "import pandas as pd\n",
    "\n",
    "df = pd.DataFrame({\n",
    "    'Name': ['Alice', 'Bob', 'Charlie'],\n",
    "    'Age': [25, 30, 35],\n",
    "    'City': ['New York', 'Los Angeles', 'Chicago']\n",
    "})\n",
    "\n",
    "# Filter rows based on a condition\n",
    "print(type(df[\"Age\"]))\n",
    "print(df[df['Age'] > 30])#first of all the df['Age'] > 30 become True or False based on condition and then print function print only that rows in which age is True\n",
    "\n",
    "# Filter rows based on multiple conditions\n",
    "print(df[(df['Age'] > 25) & (df['City'] == 'Los Angeles')])"
   ]
  },
  {
   "cell_type": "code",
   "execution_count": 7,
   "metadata": {},
   "outputs": [
    {
     "name": "stdout",
     "output_type": "stream",
     "text": [
      "      Name  Age         City Country\n",
      "0    Alice   25     New York     USA\n",
      "1      Bob   30  Los Angeles     USA\n",
      "2  Charlie   35      Chicago     USA\n",
      "      Name  Age Country\n",
      "0    Alice   25     USA\n",
      "1      Bob   30     USA\n",
      "2  Charlie   35     USA\n"
     ]
    }
   ],
   "source": [
    "#Adding and dropping columns\n",
    "import pandas as pd\n",
    "\n",
    "df = pd.DataFrame({\n",
    "    'Name': ['Alice', 'Bob', 'Charlie'],\n",
    "    'Age': [25, 30, 35],\n",
    "    'City': ['New York', 'Los Angeles', 'Chicago']\n",
    "})\n",
    "\n",
    "# Add a new column\n",
    "df['Country'] = 'USA'\n",
    "print(df)\n",
    "\n",
    "# Drop a column\n",
    "df = df.drop(columns=['City'])\n",
    "print(df)"
   ]
  },
  {
   "cell_type": "code",
   "execution_count": 8,
   "metadata": {},
   "outputs": [
    {
     "name": "stdout",
     "output_type": "stream",
     "text": [
      "City\n",
      "Chicago        35.0\n",
      "Los Angeles    30.0\n",
      "New York       25.0\n",
      "Phoenix        45.0\n",
      "Name: Age, dtype: float64\n",
      "              Age        \n",
      "             mean max min\n",
      "City                     \n",
      "Chicago      35.0  35  35\n",
      "Los Angeles  30.0  30  30\n",
      "New York     25.0  25  25\n",
      "Phoenix      45.0  45  45\n"
     ]
    }
   ],
   "source": [
    "#NOT UNDERSTAND\n",
    "#Grouping and aggrigating data\n",
    "import pandas as pd\n",
    "\n",
    "df = pd.DataFrame({\n",
    "    'Name': ['Alice', 'Bob', 'Charlie', 'David', 'Eve'],\n",
    "    'Age': [25, 30, 35, 30, 45],\n",
    "    'City': ['New York', 'Los Angeles', 'Chicago', 'Los Angeles', 'Phoenix']\n",
    "})\n",
    "\n",
    "# Group by a column and calculate the mean of another column\n",
    "grouped = df.groupby('City')['Age'].mean()\n",
    "print(grouped)\n",
    "\n",
    "# Group by multiple columns and calculate multiple aggregates\n",
    "grouped = df.groupby(['City']).agg({\n",
    "    'Age': ['mean', 'max', 'min']\n",
    "})\n",
    "print(grouped)"
   ]
  },
  {
   "cell_type": "code",
   "execution_count": 10,
   "metadata": {},
   "outputs": [
    {
     "name": "stdout",
     "output_type": "stream",
     "text": [
      "      Name   Age         City\n",
      "0    Alice  25.0     New York\n",
      "1      Bob  30.0  Los Angeles\n",
      "2  Charlie  35.0      Unknown\n",
      "      Name   Age         City\n",
      "0    Alice  25.0     New York\n",
      "1      Bob  30.0  Los Angeles\n",
      "2  Charlie  35.0      Unknown\n"
     ]
    }
   ],
   "source": [
    "#Handling missing data\n",
    "import pandas as pd\n",
    "import numpy as np\n",
    "\n",
    "df = pd.DataFrame({\n",
    "    'Name': ['Alice', 'Bob', 'Charlie'],\n",
    "    'Age': [25, np.nan, 35],#[nan] means not a number\n",
    "    'City': ['New York', 'Los Angeles', np.nan]\n",
    "})\n",
    "\n",
    "# # Fill missing values\n",
    "# df['Age'] = df['Age'].fillna(df['Age'].mean())#[na] means not avilable\n",
    "# df['City'] = df['City'].fillna('Unknown')\n",
    "# print(df)\n",
    "\n",
    "# Drop rows with missing values\n",
    "df = df.dropna()\n",
    "print(df)"
   ]
  },
  {
   "cell_type": "code",
   "execution_count": 1,
   "metadata": {},
   "outputs": [
    {
     "name": "stdout",
     "output_type": "stream",
     "text": [
      "      Name  Age         City\n",
      "0    Alice   25     New York\n",
      "1      Bob   30  Los Angeles\n",
      "2  Charlie   35      Chicago\n"
     ]
    }
   ],
   "source": [
    "#Merging data frames\n",
    "import pandas as pd\n",
    "\n",
    "df1 = pd.DataFrame({\n",
    "    'Name': ['Alice', 'Bob', 'Charlie'],\n",
    "    'Age': [25, 30, 35]\n",
    "})\n",
    "\n",
    "df2 = pd.DataFrame({\n",
    "    'Name': ['Alice', 'Bob', 'Charlie'],\n",
    "    'City': ['New York', 'Los Angeles', 'Chicago']\n",
    "})\n",
    "\n",
    "# Merge DataFrames\n",
    "merged = pd.merge(df1, df2, on='Name')\n",
    "print(merged)"
   ]
  }
 ],
 "metadata": {
  "kernelspec": {
   "display_name": "Python 3",
   "language": "python",
   "name": "python3"
  },
  "language_info": {
   "codemirror_mode": {
    "name": "ipython",
    "version": 3
   },
   "file_extension": ".py",
   "mimetype": "text/x-python",
   "name": "python",
   "nbconvert_exporter": "python",
   "pygments_lexer": "ipython3",
   "version": "3.12.2"
  }
 },
 "nbformat": 4,
 "nbformat_minor": 2
}
