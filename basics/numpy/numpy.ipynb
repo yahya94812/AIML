{
 "cells": [
  {
   "cell_type": "code",
   "execution_count": 1,
   "metadata": {},
   "outputs": [],
   "source": [
    "import numpy as np"
   ]
  },
  {
   "cell_type": "code",
   "execution_count": 4,
   "metadata": {},
   "outputs": [
    {
     "name": "stdout",
     "output_type": "stream",
     "text": [
      "[1 2 3 4 5]\n",
      "[[1 2 3]\n",
      " [4 5 6]]\n",
      "[[0. 0. 0.]\n",
      " [0. 0. 0.]\n",
      " [0. 0. 0.]]\n",
      "[[1. 1. 1. 1.]\n",
      " [1. 1. 1. 1.]]\n",
      "[0 2 4 6 8]\n",
      "\n",
      "0.0  0.25  0.5  0.75  1.0  "
     ]
    }
   ],
   "source": [
    "import numpy as np\n",
    "\n",
    "# From a list\n",
    "arr = np.array([1, 2, 3, 4, 5])\n",
    "print(arr)\n",
    "\n",
    "# From a list of lists (2D array)\n",
    "arr_2d = np.array([[1, 2, 3], [4, 5, 6]])\n",
    "print(arr_2d)\n",
    "\n",
    "# Using NumPy functions\n",
    "zeros = np.zeros((3, 3))  # 3x3 array of zeros\n",
    "print(zeros)\n",
    "\n",
    "ones = np.ones((2, 4))  # 2x4 array of ones\n",
    "print(ones)\n",
    "\n",
    "arange = np.arange(0, 10, 2)  # Array with a range of values np.arange(start,stop,step) and [stop] is not included\n",
    "print(arange)\n",
    "\n",
    "print()\n",
    "linspace = np.linspace(0, 1, 5)  # Array with 5 values linearly spaced between 0 and 1 np.arange(start,stop,no. of intervels)\n",
    "for i in linspace:\n",
    "    print(i,end=\"  \")\n"
   ]
  },
  {
   "cell_type": "code",
   "execution_count": 5,
   "metadata": {},
   "outputs": [
    {
     "name": "stdout",
     "output_type": "stream",
     "text": [
      "[5 7 9]\n",
      "[-3 -3 -3]\n",
      "[ 4 10 18]\n",
      "[0.25 0.4  0.5 ]\n",
      "[2 4 6]\n"
     ]
    }
   ],
   "source": [
    "import numpy as np\n",
    "\n",
    "arr1 = np.array([1, 2, 3])\n",
    "arr2 = np.array([4, 5, 6])\n",
    "\n",
    "# Element-wise addition\n",
    "sum_arr = arr1 + arr2\n",
    "print(sum_arr)\n",
    "\n",
    "# Element-wise subtraction\n",
    "diff_arr = arr1 - arr2\n",
    "print(diff_arr)\n",
    "\n",
    "# Element-wise multiplication\n",
    "prod_arr = arr1 * arr2\n",
    "print(prod_arr)\n",
    "\n",
    "# Element-wise division\n",
    "div_arr = arr1 / arr2\n",
    "print(div_arr)\n",
    "\n",
    "# Scalar operations\n",
    "scalar_mult = arr1 * 2\n",
    "print(scalar_mult)"
   ]
  },
  {
   "cell_type": "code",
   "execution_count": 6,
   "metadata": {},
   "outputs": [
    {
     "name": "stdout",
     "output_type": "stream",
     "text": [
      "[2 3 4]\n",
      "[1 2 3]\n",
      "[4 5 6]\n",
      "3\n",
      "6\n",
      "[2 5 8]\n",
      "[4 5 6]\n"
     ]
    }
   ],
   "source": [
    "import numpy as np\n",
    "\n",
    "arr = np.array([1, 2, 3, 4, 5, 6])\n",
    "\n",
    "# Slicing\n",
    "print(arr[1:4])  # Elements from index 1 to 3\n",
    "print(arr[:3])   # First three elements\n",
    "print(arr[3:])   # Elements from index 3 to the end\n",
    "\n",
    "# Indexing\n",
    "print(arr[2])    # Element at index 2\n",
    "\n",
    "arr_2d = np.array([[1, 2, 3], [4, 5, 6], [7, 8, 9]])\n",
    "print(arr_2d[1, 2])  # Element at row 1, column 2\n",
    "print(arr_2d[:, 1])  # All elements in column 1\n",
    "print(arr_2d[1, :])  # All elements in row 1"
   ]
  },
  {
   "cell_type": "code",
   "execution_count": 7,
   "metadata": {},
   "outputs": [
    {
     "name": "stdout",
     "output_type": "stream",
     "text": [
      "(2, 3)\n",
      "[[1 2]\n",
      " [3 4]\n",
      " [5 6]]\n",
      "[1 2 3 4 5 6]\n"
     ]
    }
   ],
   "source": [
    "import numpy as np\n",
    "\n",
    "arr = np.array([[1, 2, 3], [4, 5, 6]])\n",
    "\n",
    "# Shape of the array\n",
    "print(arr.shape)\n",
    "\n",
    "# Reshape the array\n",
    "reshaped_arr = arr.reshape((3, 2))\n",
    "print(reshaped_arr)\n",
    "\n",
    "# Flatten the array\n",
    "flattened_arr = arr.flatten()\n",
    "print(flattened_arr)"
   ]
  },
  {
   "cell_type": "code",
   "execution_count": 8,
   "metadata": {},
   "outputs": [
    {
     "name": "stdout",
     "output_type": "stream",
     "text": [
      "3.0\n",
      "3.0\n",
      "1.4142135623730951\n",
      "15\n",
      "5\n",
      "1\n"
     ]
    }
   ],
   "source": [
    "import numpy as np\n",
    "\n",
    "arr = np.array([1, 2, 3, 4, 5])\n",
    "\n",
    "# Mean\n",
    "mean_val = np.mean(arr)\n",
    "print(mean_val)\n",
    "\n",
    "# Median\n",
    "median_val = np.median(arr)\n",
    "print(median_val)\n",
    "\n",
    "# Standard deviation\n",
    "std_val = np.std(arr)\n",
    "print(std_val)\n",
    "\n",
    "# Sum\n",
    "sum_val = np.sum(arr)\n",
    "print(sum_val)\n",
    "\n",
    "# Maximum and minimum\n",
    "max_val = np.max(arr)\n",
    "print(max_val)\n",
    "min_val = np.min(arr)\n",
    "print(min_val)"
   ]
  },
  {
   "cell_type": "code",
   "execution_count": 9,
   "metadata": {},
   "outputs": [
    {
     "name": "stdout",
     "output_type": "stream",
     "text": [
      "[[0.91733248 0.0210276 ]\n",
      " [0.8832601  0.07524378]\n",
      " [0.92854014 0.71950225]]\n",
      "[[2 6 5]\n",
      " [1 0 9]\n",
      " [4 0 7]]\n",
      "[-1.90862719 -0.14422308  0.6422749  -0.4440857  -1.64930268]\n"
     ]
    }
   ],
   "source": [
    "import numpy as np\n",
    "\n",
    "# Random array of given shape\n",
    "rand_arr = np.random.rand(3, 2)\n",
    "print(rand_arr)\n",
    "\n",
    "# Random integers in a given range\n",
    "rand_int_arr = np.random.randint(0, 10, (3, 3))\n",
    "print(rand_int_arr)\n",
    "\n",
    "# Normal distribution\n",
    "rand_normal = np.random.normal(0, 1, 5)  # Mean = 0, Std = 1, 5 elements\n",
    "print(rand_normal)"
   ]
  },
  {
   "cell_type": "code",
   "execution_count": 10,
   "metadata": {},
   "outputs": [
    {
     "name": "stdout",
     "output_type": "stream",
     "text": [
      "[[19 22]\n",
      " [43 50]]\n",
      "[[1 3]\n",
      " [2 4]]\n",
      "[[-2.   1. ]\n",
      " [ 1.5 -0.5]]\n",
      "-2.0000000000000004\n"
     ]
    }
   ],
   "source": [
    "import numpy as np\n",
    "\n",
    "mat1 = np.array([[1, 2], [3, 4]])\n",
    "mat2 = np.array([[5, 6], [7, 8]])\n",
    "\n",
    "# Matrix multiplication\n",
    "mat_mult = np.dot(mat1, mat2)\n",
    "print(mat_mult)\n",
    "\n",
    "# Transpose of a matrix\n",
    "mat_transpose = mat1.T\n",
    "print(mat_transpose)\n",
    "\n",
    "# Inverse of a matrix\n",
    "mat_inverse = np.linalg.inv(mat1)\n",
    "print(mat_inverse)\n",
    "\n",
    "# Determinant of a matrix\n",
    "mat_det = np.linalg.det(mat1)\n",
    "print(mat_det)"
   ]
  }
 ],
 "metadata": {
  "kernelspec": {
   "display_name": "Python 3",
   "language": "python",
   "name": "python3"
  },
  "language_info": {
   "codemirror_mode": {
    "name": "ipython",
    "version": 3
   },
   "file_extension": ".py",
   "mimetype": "text/x-python",
   "name": "python",
   "nbconvert_exporter": "python",
   "pygments_lexer": "ipython3",
   "version": "3.12.2"
  }
 },
 "nbformat": 4,
 "nbformat_minor": 2
}
